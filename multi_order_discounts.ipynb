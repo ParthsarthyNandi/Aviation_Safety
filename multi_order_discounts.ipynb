{
  "cells": [
    {
      "cell_type": "markdown",
      "metadata": {
        "id": "view-in-github",
        "colab_type": "text"
      },
      "source": [
        "<a href=\"https://colab.research.google.com/github/ParthsarthyNandi/Aviation_Safety/blob/main/multi_order_discounts.ipynb\" target=\"_parent\"><img src=\"https://colab.research.google.com/assets/colab-badge.svg\" alt=\"Open In Colab\"/></a>"
      ]
    },
    {
      "cell_type": "markdown",
      "id": "8d0a6882",
      "metadata": {
        "id": "8d0a6882"
      },
      "source": [
        "### Apply Discounts for Multi-Order Customers\n",
        "\n",
        "We need to apply a 10% discount to every transaction in the list below.\n",
        "\n",
        "Assign the discounted transactions to a new list: `discounted_prices`."
      ]
    },
    {
      "cell_type": "code",
      "execution_count": 1,
      "id": "c8e8c4ee",
      "metadata": {
        "colab": {
          "base_uri": "https://localhost:8080/"
        },
        "id": "c8e8c4ee",
        "outputId": "05dfcd64-3516-404e-b1e7-30f7eec60c90"
      },
      "outputs": [
        {
          "output_type": "execute_result",
          "data": {
            "text/plain": [
              "[[1799.94, 29.98, 99.99],\n",
              " [15.98, 119.99],\n",
              " [24.99, 24.99],\n",
              " [649.99, 99.99],\n",
              " [599.99, 399.97]]"
            ]
          },
          "metadata": {},
          "execution_count": 1
        }
      ],
      "source": [
        "orders_c00001 = [1799.94, 29.98, 99.99]\n",
        "orders_c00004 = [15.98, 119.99]\n",
        "orders_c00006 = [24.99, 24.99]\n",
        "orders_c00008 = [649.99, 99.99]\n",
        "orders_c00010 = [599.99, 399.97]\n",
        "\n",
        "multi_order_customers = [\n",
        "    [1799.94, 29.98, 99.99],\n",
        "    [15.98, 119.99],\n",
        "    [24.99, 24.99],\n",
        "    [649.99, 99.99],\n",
        "    [599.99, 399.97]\n",
        "]\n",
        "\n",
        "multi_order_customers"
      ]
    },
    {
      "cell_type": "code",
      "execution_count": 5,
      "id": "274b47ee",
      "metadata": {
        "scrolled": true,
        "colab": {
          "base_uri": "https://localhost:8080/"
        },
        "id": "274b47ee",
        "outputId": "5f0ae3a4-5ac6-4a06-c88d-0c379a7e601d"
      },
      "outputs": [
        {
          "output_type": "execute_result",
          "data": {
            "text/plain": [
              "[[1619.95, 26.98, 89.99],\n",
              " [14.38, 107.99],\n",
              " [22.49, 22.49],\n",
              " [584.99, 89.99],\n",
              " [539.99, 359.97]]"
            ]
          },
          "metadata": {},
          "execution_count": 5
        }
      ],
      "source": [
        "discounted_prices = []\n",
        "\n",
        "for i in multi_order_customers:\n",
        "  disc_cust = []\n",
        "  for j in i:\n",
        "    disc = j * 0.9\n",
        "    disc_cust.append(round(disc,2))\n",
        "\n",
        "  discounted_prices.append(disc_cust)\n",
        "\n",
        "discounted_prices\n"
      ]
    }
  ],
  "metadata": {
    "kernelspec": {
      "display_name": "Python 3 (ipykernel)",
      "language": "python",
      "name": "python3"
    },
    "language_info": {
      "codemirror_mode": {
        "name": "ipython",
        "version": 3
      },
      "file_extension": ".py",
      "mimetype": "text/x-python",
      "name": "python",
      "nbconvert_exporter": "python",
      "pygments_lexer": "ipython3",
      "version": "3.9.7"
    },
    "colab": {
      "provenance": [],
      "include_colab_link": true
    }
  },
  "nbformat": 4,
  "nbformat_minor": 5
}